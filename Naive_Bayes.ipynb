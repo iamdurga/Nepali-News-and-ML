{
 "cells": [
  {
   "cell_type": "markdown",
   "metadata": {
    "id": "YxTdEkNXZT-6"
   },
   "source": [
    "# Naive Bayes for Nepali News Classification\n",
    "Hello everyone, welcome back to our blog about news classification and in this blog, we are going to explore Naive Bayes for news in our native language Nepali. I started this project nearly a year ago but  I never finished it because I did not know anything about it and I knew only BeautifulSoup from Datacamp. From that knowledge, I was able to scrape some news from Nepali news portal. \n",
    "\n",
    "Having an interest in using machine learning on a news content, I enrolled in Coursera's Natural Language Processing Specialization and was able to grasp some of the fundamental concepts of classification algorithms such as Naive Bayes, Logistic Regression, and Decision Tree. Because I've already posted a blog about how I did news scraping, I'll describe how I utilized the Naive Bayes classification method in my data in this blog. The basic goal of utilizing various types of classification algorithms on news data is to be able to classify news into category. Enough of the story, lets get into the main part.\n",
    "\n",
    "* [Nepali News Scraping] "
   ]
  },
  {
   "cell_type": "markdown",
   "metadata": {
    "id": "URkqs8pfL1If"
   },
   "source": [
    "## Import Necessary Modules\n",
    "Lets import some necessary libraries to do classification using Naive Bayes in Python.\n",
    "* `os` : The OS module in Python provides functions for interacting with the operating system and file systems.\n",
    "* `pandas` : Working for DataFrame\n",
    "* `numpy` : For array operation.\n",
    "* `matplotlib` : For visualization \n",
    "* `seaborn` : For more effictive data visualization.\n",
    "* `warnings` : Warnings is used to supress the warnings."
   ]
  },
  {
   "cell_type": "code",
   "execution_count": null,
   "metadata": {
    "id": "KQ3WC-X2Ii7N"
   },
   "outputs": [],
   "source": [
    "import os\n",
    "import pandas as pd\n",
    "import numpy as np\n",
    "import warnings\n",
    "warnings.filterwarnings(\"ignore\")\n",
    "\n"
   ]
  },
  {
   "cell_type": "markdown",
   "metadata": {
    "id": "HzDOHbIUL-J0"
   },
   "source": [
    "## Load CSV file\n",
    "Currently the data is in my google drive and also in [this repository](). But I am doing all these ML tasks in my Google Colab so, I will read data from my drive.\n",
    "\n",
    "\n",
    "Since we have CSV files for each run, we need all of the file's content to be combined before doing a modeling task. I have done following to merge different csv files. I regularly scraped the news these were saved in different csv file in each days. And I combined all csv file for the task."
   ]
  },
  {
   "cell_type": "code",
   "execution_count": null,
   "metadata": {
    "colab": {
     "base_uri": "https://localhost:8080/"
    },
    "id": "6101DCqvQQZh",
    "outputId": "83535c6e-d059-43e1-f082-4c40e3f0d0d4"
   },
   "outputs": [
    {
     "name": "stdout",
     "output_type": "stream",
     "text": [
      "['2021-03-25.csv', '2021-03-26.csv', '2021-03-27.csv', '2021-03-28.csv', '2021-03-29.csv', '2021-03-30.csv', '2021-03-31.csv', '2021-04-01.csv', '2021-04-03.csv', '2021-04-04.csv', '2021-04-05.csv', '2021-04-06.csv', '2021-04-07.csv', '2021-04-08.csv', '2021-04-12.csv', '2021-04-13.csv', '2021-04-14.csv', '2021-04-15.csv', '2021-04-16.csv', '2021-04-17.csv', '2021-04-18.csv', '2021-04-19.csv', '2021-10-09.csv', '2021-10-10.csv', '2021-10-20.csv', '2021-10-21.csv', '2021-10-22.csv', '2021-10-23.csv', '2021-10-24.csv', '2021-10-25.csv', '2021-10-26.csv', '2021-10-27.csv', '2021-11-21.csv', '2021-11-22.csv', '2021-11-25.csv', '2021-11-28.csv', '2021-11-29.csv', '2021-11-30.csv', '2021-12-05.csv', '2021-12-25.csv', '2022-01-02.csv', '2022-01-04.csv', '2022-01-11.csv', '2022-01-13.csv', '2022-01-18.csv', '2022-03-26.csv', '2022-03-27.csv', '2022-04-04.csv']\n"
     ]
    }
   ],
   "source": [
    "all_filenames = [i for i in os.listdir(\"/content/drive/MyDrive/News Scraping/data\") if  \".csv\" in i and \"combined\" not in i]\n",
    "print(all_filenames)"
   ]
  },
  {
   "cell_type": "code",
   "execution_count": null,
   "metadata": {
    "id": "s98ZixpnTAKb"
   },
   "outputs": [],
   "source": [
    "\n",
    "root = \"/content/drive/MyDrive/News Scraping/data/\""
   ]
  },
  {
   "cell_type": "code",
   "execution_count": null,
   "metadata": {
    "colab": {
     "base_uri": "https://localhost:8080/",
     "height": 990
    },
    "id": "pSjggR5nR_HO",
    "outputId": "7290a4fa-760a-4985-e304-76d9f0de4bb8"
   },
   "outputs": [
    {
     "data": {
      "text/html": [
       "\n",
       "  <div id=\"df-f06ae860-a54a-400c-887a-71ebecafd90d\">\n",
       "    <div class=\"colab-df-container\">\n",
       "      <div>\n",
       "<style scoped>\n",
       "    .dataframe tbody tr th:only-of-type {\n",
       "        vertical-align: middle;\n",
       "    }\n",
       "\n",
       "    .dataframe tbody tr th {\n",
       "        vertical-align: top;\n",
       "    }\n",
       "\n",
       "    .dataframe thead th {\n",
       "        text-align: right;\n",
       "    }\n",
       "</style>\n",
       "<table border=\"1\" class=\"dataframe\">\n",
       "  <thead>\n",
       "    <tr style=\"text-align: right;\">\n",
       "      <th></th>\n",
       "      <th>Unnamed: 0</th>\n",
       "      <th>Title</th>\n",
       "      <th>URL</th>\n",
       "      <th>Date</th>\n",
       "      <th>Author</th>\n",
       "      <th>Author URL</th>\n",
       "      <th>Content</th>\n",
       "      <th>Category</th>\n",
       "      <th>Description</th>\n",
       "    </tr>\n",
       "  </thead>\n",
       "  <tbody>\n",
       "    <tr>\n",
       "      <th>0</th>\n",
       "      <td>0</td>\n",
       "      <td>स्पष्टीकरण बुझाउँदै रावलले ओलीलाई नै सोधे- पार...</td>\n",
       "      <td>https://ekantipur.com/news/2021/03/25/16166859...</td>\n",
       "      <td>चैत्र १२, २०७७</td>\n",
       "      <td>कान्तिपुर संवाददाता</td>\n",
       "      <td>https://ekantipur.com/author/author-14301</td>\n",
       "      <td>काठमाडौँ — नेकपा (एमाले) का उपाध्यक्ष भीम रावल...</td>\n",
       "      <td>news</td>\n",
       "      <td>नेकपा (एमाले) का उपाध्यक्ष भीम रावलले पार्टी अ...</td>\n",
       "    </tr>\n",
       "    <tr>\n",
       "      <th>1</th>\n",
       "      <td>1</td>\n",
       "      <td>अध्ययन क्षेत्रमा नेपाल–ओमान बीच सहकार्य</td>\n",
       "      <td>https://ekantipur.com/news/2021/03/25/16166848...</td>\n",
       "      <td>चैत्र १२, २०७७</td>\n",
       "      <td>कान्तिपुर संवाददाता</td>\n",
       "      <td>https://ekantipur.com/author/author-14301</td>\n",
       "      <td>काठमाडौँ — नेपाल र ओमानका विद्यार्थीहरु बीच ‘क...</td>\n",
       "      <td>news</td>\n",
       "      <td>नेपाल र ओमानका विद्यार्थीहरु बीच ‘कृषि र पर्यट...</td>\n",
       "    </tr>\n",
       "    <tr>\n",
       "      <th>2</th>\n",
       "      <td>2</td>\n",
       "      <td>ओलीलाई नेपालको प्रतिप्रश्‍न- तपाईंमा पार्टी वि...</td>\n",
       "      <td>https://ekantipur.com/news/2021/03/25/16166833...</td>\n",
       "      <td>चैत्र १२, २०७७</td>\n",
       "      <td>कान्तिपुर संवाददाता</td>\n",
       "      <td>https://ekantipur.com/author/author-14301</td>\n",
       "      <td>काठमाडौँ — नेकपा (एमाले)का वरिष्ठ नेता माधवकुम...</td>\n",
       "      <td>news</td>\n",
       "      <td>नेकपा (एमाले)का वरिष्ठ नेता माधवकुमार नेपालले ...</td>\n",
       "    </tr>\n",
       "    <tr>\n",
       "      <th>3</th>\n",
       "      <td>3</td>\n",
       "      <td>कांग्रेस केन्द्रीय कार्यसमिति बैठक चैत २० गतेल...</td>\n",
       "      <td>https://ekantipur.com/news/2021/03/25/16166770...</td>\n",
       "      <td>चैत्र १२, २०७७</td>\n",
       "      <td>कान्तिपुर संवाददाता</td>\n",
       "      <td>https://ekantipur.com/author/author-14301</td>\n",
       "      <td>काठमाडौँ — प्रमुख प्रतिपक्ष दल कांग्रेसको केन्...</td>\n",
       "      <td>news</td>\n",
       "      <td>प्रमुख प्रतिपक्ष दल कांग्रेसको केन्द्रीय कार्य...</td>\n",
       "    </tr>\n",
       "    <tr>\n",
       "      <th>4</th>\n",
       "      <td>4</td>\n",
       "      <td>कोरोना जोखिम कम गर्न सीसीएमसीलाई स्वास्थ्य मन्...</td>\n",
       "      <td>https://ekantipur.com/news/2021/03/25/16166738...</td>\n",
       "      <td>चैत्र १२, २०७७</td>\n",
       "      <td>कान्तिपुर संवाददाता</td>\n",
       "      <td>https://ekantipur.com/author/author-14301</td>\n",
       "      <td>काठमाडौँ — स्वास्थ्य तथा जनसंख्या मन्त्रालयले ...</td>\n",
       "      <td>news</td>\n",
       "      <td>स्वास्थ्य तथा जनसंख्या मन्त्रालयले आवश्यक तयार...</td>\n",
       "    </tr>\n",
       "    <tr>\n",
       "      <th>...</th>\n",
       "      <td>...</td>\n",
       "      <td>...</td>\n",
       "      <td>...</td>\n",
       "      <td>...</td>\n",
       "      <td>...</td>\n",
       "      <td>...</td>\n",
       "      <td>...</td>\n",
       "      <td>...</td>\n",
       "      <td>...</td>\n",
       "    </tr>\n",
       "    <tr>\n",
       "      <th>75</th>\n",
       "      <td>9</td>\n",
       "      <td>प्रधानमन्त्रीका छोरासहित श्रीलङ्काका २६ जना मन...</td>\n",
       "      <td>https://gorkhapatraonline.com/international/20...</td>\n",
       "      <td>चैत्र २१, २०७८ सोमबार</td>\n",
       "      <td>गोरखापत्र अनलाइन</td>\n",
       "      <td>https://gorkhapatraonline.com/author_news/3</td>\n",
       "      <td>गोरखापत्र अनलाइनकाठमाडौं, चैत २१ गते । श्रीलङ्...</td>\n",
       "      <td>international</td>\n",
       "      <td>श्रीलङ्कामा सबैभन्दा चरम आर्थिक सङ्कट व्यवस्था...</td>\n",
       "    </tr>\n",
       "    <tr>\n",
       "      <th>76</th>\n",
       "      <td>10</td>\n",
       "      <td>खुम्बुबाट गर्भवति महिलाको उद्धार</td>\n",
       "      <td>https://gorkhapatraonline.com/health/2022-04-0...</td>\n",
       "      <td>चैत्र २१, २०७८ सोमबार</td>\n",
       "      <td>सन्तोष राउत</td>\n",
       "      <td>https://gorkhapatraonline.com/author_news/3</td>\n",
       "      <td>सोलुखुम्बुको खुम्बु पासाङल्हामु गाउँपालिका ३ ब...</td>\n",
       "      <td>province</td>\n",
       "      <td>NaN</td>\n",
       "    </tr>\n",
       "    <tr>\n",
       "      <th>77</th>\n",
       "      <td>11</td>\n",
       "      <td>गाउँठाउँमै सेवा पाउने भएपछि गौशालाबासी खुशी</td>\n",
       "      <td>https://gorkhapatraonline.com/national/2022-04...</td>\n",
       "      <td>चैत्र २१, २०७८ सोमबार</td>\n",
       "      <td>नागेन्द्रकुमार कर्ण</td>\n",
       "      <td>https://gorkhapatraonline.com/author_news/3</td>\n",
       "      <td>महोत्तरी जिल्लाको पश्चिमवर्ती स्थानीय तहका वास...</td>\n",
       "      <td>province</td>\n",
       "      <td>NaN</td>\n",
       "    </tr>\n",
       "    <tr>\n",
       "      <th>78</th>\n",
       "      <td>12</td>\n",
       "      <td>साकेला पार्कमा बाबु पोखरीको शिलान्यास</td>\n",
       "      <td>https://gorkhapatraonline.com/open/2022-04-04-...</td>\n",
       "      <td>चैत्र २१, २०७८ सोमबार</td>\n",
       "      <td>निशा राई</td>\n",
       "      <td>https://gorkhapatraonline.com/author_news/3</td>\n",
       "      <td>धरान ११ स्थित साकेला सांस्कृतिक पार्कमा बाबु प...</td>\n",
       "      <td>province</td>\n",
       "      <td>NaN</td>\n",
       "    </tr>\n",
       "    <tr>\n",
       "      <th>79</th>\n",
       "      <td>13</td>\n",
       "      <td>एकलाख बालबालिकालाई टाइफाइडविरुद्धको खोप</td>\n",
       "      <td>https://gorkhapatraonline.com/health/2022-04-0...</td>\n",
       "      <td>चैत्र २१, २०७८ सोमबार</td>\n",
       "      <td>मुकुन्द सुवेदी</td>\n",
       "      <td>https://gorkhapatraonline.com/author_news/3</td>\n",
       "      <td>स्वास्थ्य कार्यालय बर्दियाले जिल्लाका एक लाख ब...</td>\n",
       "      <td>province</td>\n",
       "      <td>NaN</td>\n",
       "    </tr>\n",
       "  </tbody>\n",
       "</table>\n",
       "<p>9242 rows × 9 columns</p>\n",
       "</div>\n",
       "      <button class=\"colab-df-convert\" onclick=\"convertToInteractive('df-f06ae860-a54a-400c-887a-71ebecafd90d')\"\n",
       "              title=\"Convert this dataframe to an interactive table.\"\n",
       "              style=\"display:none;\">\n",
       "        \n",
       "  <svg xmlns=\"http://www.w3.org/2000/svg\" height=\"24px\"viewBox=\"0 0 24 24\"\n",
       "       width=\"24px\">\n",
       "    <path d=\"M0 0h24v24H0V0z\" fill=\"none\"/>\n",
       "    <path d=\"M18.56 5.44l.94 2.06.94-2.06 2.06-.94-2.06-.94-.94-2.06-.94 2.06-2.06.94zm-11 1L8.5 8.5l.94-2.06 2.06-.94-2.06-.94L8.5 2.5l-.94 2.06-2.06.94zm10 10l.94 2.06.94-2.06 2.06-.94-2.06-.94-.94-2.06-.94 2.06-2.06.94z\"/><path d=\"M17.41 7.96l-1.37-1.37c-.4-.4-.92-.59-1.43-.59-.52 0-1.04.2-1.43.59L10.3 9.45l-7.72 7.72c-.78.78-.78 2.05 0 2.83L4 21.41c.39.39.9.59 1.41.59.51 0 1.02-.2 1.41-.59l7.78-7.78 2.81-2.81c.8-.78.8-2.07 0-2.86zM5.41 20L4 18.59l7.72-7.72 1.47 1.35L5.41 20z\"/>\n",
       "  </svg>\n",
       "      </button>\n",
       "      \n",
       "  <style>\n",
       "    .colab-df-container {\n",
       "      display:flex;\n",
       "      flex-wrap:wrap;\n",
       "      gap: 12px;\n",
       "    }\n",
       "\n",
       "    .colab-df-convert {\n",
       "      background-color: #E8F0FE;\n",
       "      border: none;\n",
       "      border-radius: 50%;\n",
       "      cursor: pointer;\n",
       "      display: none;\n",
       "      fill: #1967D2;\n",
       "      height: 32px;\n",
       "      padding: 0 0 0 0;\n",
       "      width: 32px;\n",
       "    }\n",
       "\n",
       "    .colab-df-convert:hover {\n",
       "      background-color: #E2EBFA;\n",
       "      box-shadow: 0px 1px 2px rgba(60, 64, 67, 0.3), 0px 1px 3px 1px rgba(60, 64, 67, 0.15);\n",
       "      fill: #174EA6;\n",
       "    }\n",
       "\n",
       "    [theme=dark] .colab-df-convert {\n",
       "      background-color: #3B4455;\n",
       "      fill: #D2E3FC;\n",
       "    }\n",
       "\n",
       "    [theme=dark] .colab-df-convert:hover {\n",
       "      background-color: #434B5C;\n",
       "      box-shadow: 0px 1px 3px 1px rgba(0, 0, 0, 0.15);\n",
       "      filter: drop-shadow(0px 1px 2px rgba(0, 0, 0, 0.3));\n",
       "      fill: #FFFFFF;\n",
       "    }\n",
       "  </style>\n",
       "\n",
       "      <script>\n",
       "        const buttonEl =\n",
       "          document.querySelector('#df-f06ae860-a54a-400c-887a-71ebecafd90d button.colab-df-convert');\n",
       "        buttonEl.style.display =\n",
       "          google.colab.kernel.accessAllowed ? 'block' : 'none';\n",
       "\n",
       "        async function convertToInteractive(key) {\n",
       "          const element = document.querySelector('#df-f06ae860-a54a-400c-887a-71ebecafd90d');\n",
       "          const dataTable =\n",
       "            await google.colab.kernel.invokeFunction('convertToInteractive',\n",
       "                                                     [key], {});\n",
       "          if (!dataTable) return;\n",
       "\n",
       "          const docLinkHtml = 'Like what you see? Visit the ' +\n",
       "            '<a target=\"_blank\" href=https://colab.research.google.com/notebooks/data_table.ipynb>data table notebook</a>'\n",
       "            + ' to learn more about interactive tables.';\n",
       "          element.innerHTML = '';\n",
       "          dataTable['output_type'] = 'display_data';\n",
       "          await google.colab.output.renderOutput(dataTable, element);\n",
       "          const docLink = document.createElement('div');\n",
       "          docLink.innerHTML = docLinkHtml;\n",
       "          element.appendChild(docLink);\n",
       "        }\n",
       "      </script>\n",
       "    </div>\n",
       "  </div>\n",
       "  "
      ],
      "text/plain": [
       "    Unnamed: 0                                              Title  \\\n",
       "0            0  स्पष्टीकरण बुझाउँदै रावलले ओलीलाई नै सोधे- पार...   \n",
       "1            1            अध्ययन क्षेत्रमा नेपाल–ओमान बीच सहकार्य   \n",
       "2            2  ओलीलाई नेपालको प्रतिप्रश्‍न- तपाईंमा पार्टी वि...   \n",
       "3            3  कांग्रेस केन्द्रीय कार्यसमिति बैठक चैत २० गतेल...   \n",
       "4            4  कोरोना जोखिम कम गर्न सीसीएमसीलाई स्वास्थ्य मन्...   \n",
       "..         ...                                                ...   \n",
       "75           9  प्रधानमन्त्रीका छोरासहित श्रीलङ्काका २६ जना मन...   \n",
       "76          10                   खुम्बुबाट गर्भवति महिलाको उद्धार   \n",
       "77          11        गाउँठाउँमै सेवा पाउने भएपछि गौशालाबासी खुशी   \n",
       "78          12              साकेला पार्कमा बाबु पोखरीको शिलान्यास   \n",
       "79          13            एकलाख बालबालिकालाई टाइफाइडविरुद्धको खोप   \n",
       "\n",
       "                                                  URL                   Date  \\\n",
       "0   https://ekantipur.com/news/2021/03/25/16166859...         चैत्र १२, २०७७   \n",
       "1   https://ekantipur.com/news/2021/03/25/16166848...         चैत्र १२, २०७७   \n",
       "2   https://ekantipur.com/news/2021/03/25/16166833...         चैत्र १२, २०७७   \n",
       "3   https://ekantipur.com/news/2021/03/25/16166770...         चैत्र १२, २०७७   \n",
       "4   https://ekantipur.com/news/2021/03/25/16166738...         चैत्र १२, २०७७   \n",
       "..                                                ...                    ...   \n",
       "75  https://gorkhapatraonline.com/international/20...  चैत्र २१, २०७८ सोमबार   \n",
       "76  https://gorkhapatraonline.com/health/2022-04-0...  चैत्र २१, २०७८ सोमबार   \n",
       "77  https://gorkhapatraonline.com/national/2022-04...  चैत्र २१, २०७८ सोमबार   \n",
       "78  https://gorkhapatraonline.com/open/2022-04-04-...  चैत्र २१, २०७८ सोमबार   \n",
       "79  https://gorkhapatraonline.com/health/2022-04-0...  चैत्र २१, २०७८ सोमबार   \n",
       "\n",
       "                 Author                                   Author URL  \\\n",
       "0   कान्तिपुर संवाददाता    https://ekantipur.com/author/author-14301   \n",
       "1   कान्तिपुर संवाददाता    https://ekantipur.com/author/author-14301   \n",
       "2   कान्तिपुर संवाददाता    https://ekantipur.com/author/author-14301   \n",
       "3   कान्तिपुर संवाददाता    https://ekantipur.com/author/author-14301   \n",
       "4   कान्तिपुर संवाददाता    https://ekantipur.com/author/author-14301   \n",
       "..                  ...                                          ...   \n",
       "75    गोरखापत्र अनलाइन   https://gorkhapatraonline.com/author_news/3   \n",
       "76          सन्तोष राउत  https://gorkhapatraonline.com/author_news/3   \n",
       "77  नागेन्द्रकुमार कर्ण  https://gorkhapatraonline.com/author_news/3   \n",
       "78             निशा राई  https://gorkhapatraonline.com/author_news/3   \n",
       "79       मुकुन्द सुवेदी  https://gorkhapatraonline.com/author_news/3   \n",
       "\n",
       "                                              Content       Category  \\\n",
       "0   काठमाडौँ — नेकपा (एमाले) का उपाध्यक्ष भीम रावल...           news   \n",
       "1   काठमाडौँ — नेपाल र ओमानका विद्यार्थीहरु बीच ‘क...           news   \n",
       "2   काठमाडौँ — नेकपा (एमाले)का वरिष्ठ नेता माधवकुम...           news   \n",
       "3   काठमाडौँ — प्रमुख प्रतिपक्ष दल कांग्रेसको केन्...           news   \n",
       "4   काठमाडौँ — स्वास्थ्य तथा जनसंख्या मन्त्रालयले ...           news   \n",
       "..                                                ...            ...   \n",
       "75  गोरखापत्र अनलाइनकाठमाडौं, चैत २१ गते । श्रीलङ्...  international   \n",
       "76  सोलुखुम्बुको खुम्बु पासाङल्हामु गाउँपालिका ३ ब...       province   \n",
       "77  महोत्तरी जिल्लाको पश्चिमवर्ती स्थानीय तहका वास...       province   \n",
       "78  धरान ११ स्थित साकेला सांस्कृतिक पार्कमा बाबु प...       province   \n",
       "79  स्वास्थ्य कार्यालय बर्दियाले जिल्लाका एक लाख ब...       province   \n",
       "\n",
       "                                          Description  \n",
       "0   नेकपा (एमाले) का उपाध्यक्ष भीम रावलले पार्टी अ...  \n",
       "1   नेपाल र ओमानका विद्यार्थीहरु बीच ‘कृषि र पर्यट...  \n",
       "2   नेकपा (एमाले)का वरिष्ठ नेता माधवकुमार नेपालले ...  \n",
       "3   प्रमुख प्रतिपक्ष दल कांग्रेसको केन्द्रीय कार्य...  \n",
       "4   स्वास्थ्य तथा जनसंख्या मन्त्रालयले आवश्यक तयार...  \n",
       "..                                                ...  \n",
       "75  श्रीलङ्कामा सबैभन्दा चरम आर्थिक सङ्कट व्यवस्था...  \n",
       "76                                                NaN  \n",
       "77                                                NaN  \n",
       "78                                                NaN  \n",
       "79                                                NaN  \n",
       "\n",
       "[9242 rows x 9 columns]"
      ]
     },
     "execution_count": 14,
     "metadata": {},
     "output_type": "execute_result"
    }
   ],
   "source": [
    "combined_csv = pd.concat([pd.read_csv(root+f) for f in all_filenames])\n",
    "combined_csv"
   ]
  },
  {
   "cell_type": "markdown",
   "metadata": {
    "id": "WSJlmO5Hh3x7"
   },
   "source": [
    "In combined csv file there are 9 columns and 9162 rows. Among 9 columns columns names are Title, URL, Date, Author, Author URL, Content, Category, Description and so on."
   ]
  },
  {
   "cell_type": "markdown",
   "metadata": {
    "id": "KLd7-D9JieLj"
   },
   "source": [
    "Here I created copy of original dataframe. The main objective of doing so is, in some case if we changed some value, this value will be also changed in original data so inorder to keep our original data unchanged, we created copy of it."
   ]
  },
  {
   "cell_type": "code",
   "execution_count": null,
   "metadata": {
    "id": "Lxd7t7bXIpxQ"
   },
   "outputs": [],
   "source": [
    "df = combined_csv.copy()"
   ]
  },
  {
   "cell_type": "markdown",
   "metadata": {
    "id": "JXOnpxBwPxTK"
   },
   "source": [
    "## Load stopwords file\n",
    "Stop words are a group of terms that are regularly employed in any language. The words \"the,\" \"is,\" and \"and\" are all examples of stop words in English. Stop words are used in NLP and text mining applications to remove unnecessary terms, allowing programs to focus on the important words instead. I loaded stop words file in following way. Stop words contribute valueable role while doing news classification so we should remove them while doing preprocessing. And for the Nepali Stopwords, I found a text file online about it. Common repeating words in Nepali are like `आदि` I am sorry for not remembering the real author of it. Also this is in my drive as well."
   ]
  },
  {
   "cell_type": "markdown",
   "metadata": {
    "id": "7aNYo19RMESb"
   },
   "source": []
  },
  {
   "cell_type": "code",
   "execution_count": null,
   "metadata": {
    "id": "baWKOnzcIs3K"
   },
   "outputs": [],
   "source": [
    "stop_file = \"/content/drive/MyDrive/News Scraping/News classification/nepali_stopwords.txt\"\n",
    "stop_words = []\n",
    "with open(stop_file) as fp:\n",
    "  lines = fp.readlines()\n",
    "  stop_words =list( map(lambda x:x.strip(), lines))\n",
    "#stop_words"
   ]
  },
  {
   "cell_type": "markdown",
   "metadata": {
    "id": "Mdmec7XkP25F"
   },
   "source": [
    "## Load Punctuation file\n",
    "Following code is for loading punctuation file. Punctuation refers to the characters used in writing to separate sentences, phrases, and clauses so that their intended meaning is clear. These characters do not give valuable meaning while doing classification so we should removed before fitting our model."
   ]
  },
  {
   "cell_type": "code",
   "execution_count": null,
   "metadata": {
    "colab": {
     "base_uri": "https://localhost:8080/"
    },
    "id": "f1i0OuuOLreM",
    "outputId": "5b4a597a-e6ad-44e1-d718-1b7b2315e7cc"
   },
   "outputs": [
    {
     "data": {
      "text/plain": [
       "[':', '?', '|', '!', '.', ',', '\" \"', '( )', '—', '-', \"?'\"]"
      ]
     },
     "execution_count": 25,
     "metadata": {},
     "output_type": "execute_result"
    }
   ],
   "source": [
    "punctuation_file = \"/content/drive/MyDrive/News Scraping/News classification/nepali_punctuation (1).txt\"\n",
    "punctuation_words = []\n",
    "with open(punctuation_file) as fp:\n",
    "  lines = fp.readlines()\n",
    "  punctuation_words =list( map(lambda x:x.strip(), lines))\n",
    "punctuation_words"
   ]
  },
  {
   "cell_type": "markdown",
   "metadata": {
    "id": "TGz5p-d21Acl"
   },
   "source": []
  },
  {
   "cell_type": "code",
   "execution_count": null,
   "metadata": {
    "id": "5-Nd5WFf1lwD"
   },
   "outputs": [],
   "source": []
  },
  {
   "cell_type": "markdown",
   "metadata": {
    "id": "tffu99UIP79B"
   },
   "source": [
    "## Using Title\n",
    "### Text pre-processing\n",
    "I'm only going to use the titles of all the news in first part and see the outcome. In first part of this blog, I'll discuss how to classify news using Naive Bayes in title data and categorize them into category.\n",
    "\n",
    "First, in the given code, I wrote a method called `preprocess_text` that takes data, stop words, and punctuation words as parameters. Then, I created a list called `new_cat` to hold it. As can be seen in the code, I also initialized noise as numbers. Then for each words in the each sentence, I did:\n",
    "* If word is not in punctuation or stop words then,\n",
    "* Do not take this word if it contains noise characters.\n",
    "* Remove parenthesis\n"
   ]
  },
  {
   "cell_type": "code",
   "execution_count": null,
   "metadata": {
    "colab": {
     "base_uri": "https://localhost:8080/"
    },
    "id": "hsw17VUuLu-o",
    "outputId": "397f9287-a883-4028-adbd-8163c1aeba70"
   },
   "outputs": [
    {
     "name": "stdout",
     "output_type": "stream",
     "text": [
      "['शिक्षण संस्थामा जनस्वास्थ्य मापदण्ड पालना शिक्षा मन्त्रालयको निर्देशन']\n"
     ]
    }
   ],
   "source": [
    "def preprocess_text(cat_data, stop_words, punctuation_words):\n",
    "  new_cat = []\n",
    "  noise = \"1,2,3,4,5,6,7,8,9,0,०,१,२,३,४,५,६,७,८,९\".split(\",\")\n",
    "  \n",
    "  for row in cat_data:\n",
    "    words = row.strip().split(\" \")      \n",
    "    nwords = \"\" # []\n",
    "    \n",
    "    for word in words:\n",
    "      if word not in punctuation_words and word not in stop_words:\n",
    "        is_noise = False\n",
    "        for n in noise:\n",
    "          #print(n)\n",
    "          if n in word:\n",
    "            is_noise = True\n",
    "            break\n",
    "        if is_noise == False:\n",
    "          word = word.replace(\"(\",\"\")\n",
    "          word = word.replace(\")\",\"\")\n",
    "          # nwords.append(word)\n",
    "          if len(word)>1:\n",
    "            nwords+=word+\" \"\n",
    "          \n",
    "    new_cat.append(nwords.strip())\n",
    "  # print(new_cat)\n",
    "  return new_cat\n",
    "\n",
    "title_clean = preprocess_text([\"शिक्षण संस्थामा ज जनस्वास्थ्य 50 मापदण्ड पालना शिक्षा मन्त्रालयको निर्देशन\"], stop_words, punctuation_words)\n",
    "print(title_clean)\n"
   ]
  },
  {
   "cell_type": "markdown",
   "metadata": {
    "id": "oUtOkQjsnKZN"
   },
   "source": [
    "We can see in the result above that the single letter ज is removed as well as 50.\n",
    "\n",
    "Now making a new dataframe to do processing of text and use it later on."
   ]
  },
  {
   "cell_type": "code",
   "execution_count": null,
   "metadata": {
    "id": "GTua3fllLyrV"
   },
   "outputs": [],
   "source": [
    "ndf = df.copy()\n",
    "cat_title = []\n",
    "for i, row in ndf.iterrows():\n",
    "  ndf.loc[i, \"Title\"]= preprocess_text([row.Title], stop_words, punctuation_words)[0]\n",
    "\n",
    "#ndf\n"
   ]
  },
  {
   "cell_type": "markdown",
   "metadata": {
    "id": "jSWOCb3mQknj"
   },
   "source": [
    "### Import Necessary module for Multinomial Naive Bayes\n",
    "\n",
    "* `CountVectorizer` : Convert a set of text documents into a token count matrix. Using scipy, this approach generates a sparse representation of the counts.\n",
    "* `train_test_split`: Sklearn model selection has a method called train test split that splits data arrays into two subsets: training data and testing data.\n",
    "* `MultinomialNB`: The multinomial Naive Bayes classifier is good for discrete feature classification (e.g., word counts for text classification). Normally, integer feature counts are required for the multinomial distribution.\n",
    "* `unique_labels`: Extract an ordered array of unique labels.\n",
    "\n",
    "\n"
   ]
  },
  {
   "cell_type": "code",
   "execution_count": null,
   "metadata": {
    "id": "aYS0N3xbMOz1"
   },
   "outputs": [],
   "source": [
    "\n",
    "from sklearn.feature_extraction.text import CountVectorizer\n",
    "from sklearn.model_selection import train_test_split\n",
    "from sklearn.naive_bayes import MultinomialNB\n",
    "from sklearn.utils.multiclass import unique_labels\n",
    "\n",
    "\n",
    "\n"
   ]
  },
  {
   "cell_type": "markdown",
   "metadata": {
    "id": "1z8wphOoRiuv"
   },
   "source": [
    "### Splitting Data into Train and Test set\n",
    "\n",
    "Here we split our original data into train and test data. Normally data partition are done in the ratio of 70% and 30% or 80% and 20%. Train data are used for model fitting and test data are used while doing model prediction. But before that, we will merge two similar categories into one and also assign a unique label for each class."
   ]
  },
  {
   "cell_type": "code",
   "execution_count": null,
   "metadata": {
    "id": "6VS-7sI0RWCt"
   },
   "outputs": [],
   "source": [
    "data = pd.DataFrame()\n",
    "\n",
    "data[\"text\"]=ndf.Title\n",
    "data[\"label\"]=ndf.Category\n",
    "data[\"target\"] = data[\"label\"].apply(lambda x: \"news\" if x==\"prabhas-news\" else \"national\" if x==\"province\" else x)\n",
    "classes = {c:i for i,c in enumerate(data.target.unique())}\n",
    "data[\"target\"] = data.target.apply(lambda x: classes[x])\n",
    "\n",
    "\n",
    "X_train, X_test, Y_train, Y_test = train_test_split(data['text'], \n",
    "                                                    data['target'], \n",
    "                                                    random_state=0)\n",
    "\n",
    "vectorizer = CountVectorizer(ngram_range=(1, 2)).fit(X_train)\n",
    "X_train_vectorized = vectorizer.transform(X_train)"
   ]
  },
  {
   "cell_type": "markdown",
   "metadata": {
    "id": "cSYdqH6cRuOd"
   },
   "source": [
    "### Model Fitting\n",
    " We fit MultinomialNB by using train_set of data. We get value of coefficent of determination 79.12% that means the model is able to fit only 79.12% of data."
   ]
  },
  {
   "cell_type": "code",
   "execution_count": null,
   "metadata": {
    "colab": {
     "base_uri": "https://localhost:8080/"
    },
    "id": "2xPdBMBcRa6Y",
    "outputId": "5b4479e9-9365-4c2c-bbae-91c2955e2348"
   },
   "outputs": [
    {
     "data": {
      "text/plain": [
       "0.7912278170538162"
      ]
     },
     "execution_count": 36,
     "metadata": {},
     "output_type": "execute_result"
    }
   ],
   "source": [
    "model = MultinomialNB(alpha=0.1)\n",
    "model.fit(X_train_vectorized, Y_train)\n",
    "model.score(X_train_vectorized, Y_train)"
   ]
  },
  {
   "cell_type": "code",
   "execution_count": null,
   "metadata": {
    "id": "63HImLhXw9VN"
   },
   "outputs": [],
   "source": []
  },
  {
   "cell_type": "markdown",
   "metadata": {
    "id": "X2dJ_Zo8w-rf"
   },
   "source": [
    "### Our Hardcoded Accuracy\n"
   ]
  },
  {
   "cell_type": "code",
   "execution_count": null,
   "metadata": {
    "colab": {
     "base_uri": "https://localhost:8080/"
    },
    "id": "O_nGyz5fMfnP",
    "outputId": "adf3c342-504c-4eec-c741-73bd3984cd61"
   },
   "outputs": [
    {
     "name": "stdout",
     "output_type": "stream",
     "text": [
      "Accuracy: 78.23453050627434 %\n"
     ]
    }
   ],
   "source": [
    "predictions = model.predict(vectorizer.transform(X_test))\n",
    "print(\"Accuracy:\", 100 * sum(predictions == Y_test) / len(predictions), '%')"
   ]
  },
  {
   "cell_type": "code",
   "execution_count": null,
   "metadata": {
    "colab": {
     "base_uri": "https://localhost:8080/"
    },
    "id": "RbDsoAL7Mjw5",
    "outputId": "50937f2e-4b70-4d10-9a24-1b7712711833"
   },
   "outputs": [
    {
     "data": {
      "text/plain": [
       "(array([0, 1, 2, 3, 4, 5, 6, 7]),\n",
       " {'business': 1,\n",
       "  'entertainment': 7,\n",
       "  'international': 5,\n",
       "  'national': 4,\n",
       "  'news': 0,\n",
       "  'sports': 3,\n",
       "  'technology': 6,\n",
       "  'world': 2})"
      ]
     },
     "execution_count": 32,
     "metadata": {},
     "output_type": "execute_result"
    }
   ],
   "source": [
    "model.classes_, classes"
   ]
  },
  {
   "cell_type": "markdown",
   "metadata": {
    "id": "TXY78bqbqlqL"
   },
   "source": [
    "In news classification there are 8 categories. Category with crossponding value is given below.\n",
    "\n",
    "* 0 is indicating 'news'\n",
    "* 1 is indicating 'business'\n",
    "* 2 is indicating 'world'\n",
    "* 3 is indicating 'sports'\n",
    "* 4 is indicating 'national'\n",
    "* 5 is indicating 'international'\n",
    "* 6 is indicating 'technology'\n",
    "* 7 is indicating 'entertainment'"
   ]
  },
  {
   "cell_type": "markdown",
   "metadata": {
    "id": "cCRQpJaMSD1_"
   },
   "source": [
    "### Prediction on Untrained Data\n",
    "Following is the code for untrained data let us check given Nepali text in already build model. And observed how much well it performed."
   ]
  },
  {
   "cell_type": "code",
   "execution_count": null,
   "metadata": {
    "colab": {
     "base_uri": "https://localhost:8080/"
    },
    "id": "1b6xmqjQMoqU",
    "outputId": "dc4c7b6a-8b98-4abb-c148-2f1a2e67dfd7"
   },
   "outputs": [
    {
     "data": {
      "text/plain": [
       "['news', 'business', 'business', 'business', 'business', 'international']"
      ]
     },
     "execution_count": 33,
     "metadata": {},
     "output_type": "execute_result"
    }
   ],
   "source": [
    "prd = model.predict(vectorizer.transform(\n",
    "    [\n",
    "        'कैलाली, कञ्चनपुर र सुनसरीमा ३० प्रतिशत धानबाली नष्ट',\n",
    "        'जलविद्युत् आयोजना : सर्वेक्षण इजाजत रोक्नबाट पछि हट्यो सरकार',\n",
    "        'राष्ट्र बैंकको हस्तक्षेपपछि निक्षेपको ब्याजदर १० प्रतिशतभन्दा कम',\n",
    "        'गणेशमान सिंह राष्ट्रिय टेनिस कात्तिक ९ गतेदेखि',\n",
    "        'निर्माणमैत्री कानून बनाउने मन्त्री झाँक्रीको प्रतिवद्धता',\n",
    "        'टी-२० विश्वकप : पीएनजीलाई ८४ रनले हराउँदै बंगलादेश सुपर १२ मा'\n",
    "        ])\n",
    "            ) \n",
    "nprd = []\n",
    "for k,v in classes.items():\n",
    "  for p in prd:\n",
    "    if v==p:\n",
    "      nprd.append(k)\n",
    "nprd"
   ]
  },
  {
   "cell_type": "markdown",
   "metadata": {
    "id": "RFwoY7umxRj_"
   },
   "source": [
    "In above 6 titles, a best category to each are, Business, Business, Business, Sports, News, Sports. And the model is not performing well but still we can make some analogy out of it."
   ]
  },
  {
   "cell_type": "markdown",
   "metadata": {
    "id": "iQ-lvjccyVJe"
   },
   "source": [
    "## Using News Content\n",
    "Lets repeat above steps for the content rather than title."
   ]
  },
  {
   "cell_type": "code",
   "execution_count": null,
   "metadata": {
    "colab": {
     "base_uri": "https://localhost:8080/"
    },
    "id": "FwhtpSilMsAO",
    "outputId": "ed206358-43a6-4204-aca6-aec6e6ed8bcd"
   },
   "outputs": [
    {
     "name": "stdout",
     "output_type": "stream",
     "text": [
      "nan\n",
      "nan\n"
     ]
    }
   ],
   "source": [
    "ndf = df.copy()\n",
    "cat_title = []\n",
    "for i, row in ndf.iterrows():\n",
    "  try:\n",
    "    ndf.loc[i, \"Content\"]= preprocess_text([row.Content], stop_words, punctuation_words)[0]\n",
    "  except:\n",
    "    print(row.Content)\n",
    "ndf=ndf[~pd.isna(ndf.Content)]\n"
   ]
  },
  {
   "cell_type": "code",
   "execution_count": null,
   "metadata": {
    "id": "T02xR_c1ykL4"
   },
   "outputs": [],
   "source": [
    "data = pd.DataFrame()\n",
    "\n",
    "data[\"text\"]=ndf.Content\n",
    "data[\"label\"]=ndf.Category\n",
    "data[\"target\"] = data[\"label\"].apply(lambda x: \"news\" if x==\"prabhas-news\" else \"national\" if x==\"province\" else x)\n",
    "classes = {c:i for i,c in enumerate(data.target.unique())}\n",
    "data[\"target\"] = data.target.apply(lambda x: classes[x])\n",
    "\n",
    "\n",
    "X_train, X_test, Y_train, Y_test = train_test_split(data['text'], \n",
    "                                                    data['target'], \n",
    "                                                    random_state=0)\n",
    "\n",
    "vectorizer = CountVectorizer(ngram_range=(1, 2)).fit(X_train)\n",
    "X_train_vectorized = vectorizer.transform(X_train)"
   ]
  },
  {
   "cell_type": "code",
   "execution_count": null,
   "metadata": {
    "colab": {
     "base_uri": "https://localhost:8080/"
    },
    "id": "58mQ2BmczZAz",
    "outputId": "293632ab-be0b-4e4a-998d-a202aa3a626e"
   },
   "outputs": [
    {
     "data": {
      "text/plain": [
       "0.7776655605251768"
      ]
     },
     "execution_count": 44,
     "metadata": {},
     "output_type": "execute_result"
    }
   ],
   "source": [
    "model = MultinomialNB(alpha=0.1)\n",
    "model.fit(X_train_vectorized, Y_train)\n",
    "model.score(X_train_vectorized, Y_train)"
   ]
  },
  {
   "cell_type": "code",
   "execution_count": null,
   "metadata": {
    "colab": {
     "base_uri": "https://localhost:8080/"
    },
    "id": "tFfx9PyvzcfX",
    "outputId": "0f4ec42c-2979-45e7-eb5a-969de1dee794"
   },
   "outputs": [
    {
     "name": "stdout",
     "output_type": "stream",
     "text": [
      "Accuracy: 76.11423626135871 %\n"
     ]
    }
   ],
   "source": [
    "predictions = model.predict(vectorizer.transform(X_test))\n",
    "print(\"Accuracy:\", 100 * sum(predictions == Y_test) / len(predictions), '%')"
   ]
  },
  {
   "cell_type": "code",
   "execution_count": null,
   "metadata": {
    "colab": {
     "base_uri": "https://localhost:8080/"
    },
    "id": "1-LQ6o8NzguT",
    "outputId": "ea5336b4-3992-4fff-95a5-95a91917bea6"
   },
   "outputs": [
    {
     "data": {
      "text/plain": [
       "['news', 'business', 'world', 'sports', 'sports', 'national']"
      ]
     },
     "execution_count": 46,
     "metadata": {},
     "output_type": "execute_result"
    }
   ],
   "source": [
    "prd = model.predict(vectorizer.transform(\n",
    "    [\n",
    "        'कैलाली, कञ्चनपुर र सुनसरीमा ३० प्रतिशत धानबाली नष्ट',\n",
    "        'जलविद्युत् आयोजना : सर्वेक्षण इजाजत रोक्नबाट पछि हट्यो सरकार',\n",
    "        'राष्ट्र बैंकको हस्तक्षेपपछि निक्षेपको ब्याजदर १० प्रतिशतभन्दा कम',\n",
    "        'गणेशमान सिंह राष्ट्रिय टेनिस कात्तिक ९ गतेदेखि',\n",
    "        'निर्माणमैत्री कानून बनाउने मन्त्री झाँक्रीको प्रतिवद्धता',\n",
    "        'टी-२० विश्वकप : पीएनजीलाई ८४ रनले हराउँदै बंगलादेश सुपर १२ मा'\n",
    "        ])\n",
    "            ) \n",
    "nprd = []\n",
    "for k,v in classes.items():\n",
    "  for p in prd:\n",
    "    if v==p:\n",
    "      nprd.append(k)\n",
    "nprd"
   ]
  },
  {
   "cell_type": "markdown",
   "metadata": {
    "id": "0QlY-0h7zxRK"
   },
   "source": [
    "The results using Content is even poorer than the title so lets see if it is happening because of the categories being similar to each others. Next we will try to use only 2 categories."
   ]
  },
  {
   "cell_type": "code",
   "execution_count": null,
   "metadata": {
    "id": "sYAnxI5BzobS"
   },
   "outputs": [],
   "source": []
  },
  {
   "cell_type": "markdown",
   "metadata": {
    "id": "-BXgiVWfzraj"
   },
   "source": [
    "## What Happens if we take only two categories?"
   ]
  },
  {
   "cell_type": "code",
   "execution_count": null,
   "metadata": {
    "colab": {
     "base_uri": "https://localhost:8080/"
    },
    "id": "bYyrHPMezwOc",
    "outputId": "8a2c6f6a-2b4b-4116-fe54-adc1e2e20f2b"
   },
   "outputs": [
    {
     "name": "stdout",
     "output_type": "stream",
     "text": [
      "nan\n",
      "nan\n",
      "Score is 0.9772055719712959\n",
      "Accuracy: 96.9620253164557 %\n"
     ]
    },
    {
     "data": {
      "text/plain": [
       "['business', 'business', 'business', 'business', 'sports', 'sports']"
      ]
     },
     "execution_count": 48,
     "metadata": {},
     "output_type": "execute_result"
    }
   ],
   "source": [
    "\n",
    "ndf = df.copy()\n",
    "cat_title = []\n",
    "for i, row in ndf.iterrows():\n",
    "  try:\n",
    "    ndf.loc[i, \"Content\"]= preprocess_text([row.Content], stop_words, punctuation_words)[0]\n",
    "  except:\n",
    "    print(row.Content)\n",
    "ndf=ndf[~pd.isna(ndf.Content)]\n",
    "\n",
    "\n",
    "data = pd.DataFrame()\n",
    "\n",
    "data[\"text\"]=ndf.Content\n",
    "data[\"label\"]=ndf.Category\n",
    "data = data[data.label.isin([\"business\", \"sports\"])]\n",
    "data[\"target\"] = data[\"label\"].apply(lambda x: \"news\" if x==\"prabhas-news\" else \"national\" if x==\"province\" else x)\n",
    "classes = {c:i for i,c in enumerate(data.target.unique())}\n",
    "data[\"target\"] = data.target.apply(lambda x: classes[x])\n",
    "\n",
    "\n",
    "\n",
    "X_train, X_test, Y_train, Y_test = train_test_split(data['text'], \n",
    "                                                    data['target'], \n",
    "                                                    random_state=0)\n",
    "\n",
    "vectorizer = CountVectorizer(ngram_range=(1, 2)).fit(X_train)\n",
    "X_train_vectorized = vectorizer.transform(X_train)\n",
    "\n",
    "model = MultinomialNB(alpha=0.1)\n",
    "model.fit(X_train_vectorized, Y_train)\n",
    "print(f\"Score is {model.score(X_train_vectorized, Y_train)}\")\n",
    "\n",
    "predictions = model.predict(vectorizer.transform(X_test))\n",
    "print(\"Accuracy:\", 100 * sum(predictions == Y_test) / len(predictions), '%')\n",
    "\n",
    "prd = model.predict(vectorizer.transform(\n",
    "    [\n",
    "        'कैलाली, कञ्चनपुर र सुनसरीमा ३० प्रतिशत धानबाली नष्ट',\n",
    "        'जलविद्युत् आयोजना : सर्वेक्षण इजाजत रोक्नबाट पछि हट्यो सरकार',\n",
    "        'राष्ट्र बैंकको हस्तक्षेपपछि निक्षेपको ब्याजदर १० प्रतिशतभन्दा कम',\n",
    "        'गणेशमान सिंह राष्ट्रिय टेनिस कात्तिक ९ गतेदेखि',\n",
    "        'निर्माणमैत्री कानून बनाउने मन्त्री झाँक्रीको प्रतिवद्धता',\n",
    "        'टी-२० विश्वकप : पीएनजीलाई ८४ रनले हराउँदै बंगलादेश सुपर १२ मा'\n",
    "        ])\n",
    "            ) \n",
    "nprd = []\n",
    "for k,v in classes.items():\n",
    "  for p in prd:\n",
    "    if v==p:\n",
    "      nprd.append(k)\n",
    "nprd"
   ]
  },
  {
   "cell_type": "code",
   "execution_count": null,
   "metadata": {
    "id": "TH-eRBRj0c_U"
   },
   "outputs": [],
   "source": []
  }
 ],
 "metadata": {
  "colab": {
   "collapsed_sections": [],
   "name": "Naive Bayes.ipynb",
   "provenance": [],
   "toc_visible": true
  },
  "kernelspec": {
   "display_name": "Python 3",
   "language": "python",
   "name": "python3"
  },
  "language_info": {
   "codemirror_mode": {
    "name": "ipython",
    "version": 3
   },
   "file_extension": ".py",
   "mimetype": "text/x-python",
   "name": "python",
   "nbconvert_exporter": "python",
   "pygments_lexer": "ipython3",
   "version": "3.8.5"
  },
  "latex_envs": {
   "LaTeX_envs_menu_present": true,
   "autoclose": false,
   "autocomplete": true,
   "bibliofile": "biblio.bib",
   "cite_by": "apalike",
   "current_citInitial": 1,
   "eqLabelWithNumbers": true,
   "eqNumInitial": 1,
   "hotkeys": {
    "equation": "Ctrl-E",
    "itemize": "Ctrl-I"
   },
   "labels_anchors": false,
   "latex_user_defs": false,
   "report_style_numbering": false,
   "user_envs_cfg": false
  },
  "toc": {
   "base_numbering": 1,
   "nav_menu": {},
   "number_sections": true,
   "sideBar": true,
   "skip_h1_title": false,
   "title_cell": "Table of Contents",
   "title_sidebar": "Contents",
   "toc_cell": false,
   "toc_position": {},
   "toc_section_display": true,
   "toc_window_display": false
  }
 },
 "nbformat": 4,
 "nbformat_minor": 1
}
