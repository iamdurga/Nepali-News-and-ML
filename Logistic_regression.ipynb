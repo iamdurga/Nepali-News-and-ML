{
 "cells": [
  {
   "cell_type": "markdown",
   "metadata": {
    "id": "dXmMbmDNkmxU"
   },
   "source": [
    "## Logistic Regression for Nepali News Classification\n",
    "Hello everyone, and welcome back to my news categorization blog. In this blog, I'll be looking into Logistic Regression for news in Nepali, which is our native language. I started this project almost a year ago but never finished it because I had no idea what I was doing and only knew BeautifulSoup from Datacamp. I was able to scrape a Nepali news webpage using that information.\n",
    "\n",
    "I enrolled in Coursera's natural language processing specialization because I was interested in utilizing machine learning on a news site and was able to grasp some of the core ideas of classification algorithms such as Naive Bayes, Logistic Regression, and Decision Tree. I'll describe how I used the Logistic Regression classification method in my data in this blog because I've already written a blog about how I enable news scraping. The primary purpose of applying various types of classification algorithms to news data is to be able to categorize it. A Machine Learning classification approach called logistic regression is used to predict the likelihood of a categorical dependent variable. I followed the steps outlined below to accomplish this.\n"
   ]
  },
  {
   "cell_type": "markdown",
   "metadata": {
    "id": "aeVQ8xCgPLaq"
   },
   "source": [
    "# Import Necessary Module\n",
    "I loaded the modules that I needed for my news classification work here.\n",
    "\n",
    "* os: The OS module in Python provides functions for interacting with the operating system \n",
    "\n",
    "* pandas: Working with DataFrame \n",
    "\n",
    "* numpy: For mathematical calculations\n",
    "\n",
    "* matplotlib: For visualization \n",
    "\n",
    "* matplotlib.front manager: A module for finding, managing, and using fonts across platforms \n",
    "\n",
    "* matplotlib.front manager: A module for finding, managing, and using fonts across platforms\n",
    "\n",
    "* matplotlib.front manager: A module for finding, managing, and using fonts across\n",
    "\n",
    "* warnings: Warnings are provided to warn the developer of circumstances that aren't always exceptions.\n"
   ]
  },
  {
   "cell_type": "code",
   "execution_count": null,
   "metadata": {
    "id": "5i1WT1H3QBQd"
   },
   "outputs": [],
   "source": [
    "\n",
    "import os\n",
    "import pandas as pd\n",
    "import numpy as np\n",
    "import matplotlib.pyplot as plt\n",
    "from matplotlib.pyplot import figure\n",
    "from matplotlib.font_manager import FontProperties\n",
    "import seaborn as sns\n",
    "import warnings\n",
    "warnings.filterwarnings(\"ignore\")\n",
    "import pprint\n",
    "\n",
    "plt.style.use(\"seaborn-whitegrid\")\n"
   ]
  },
  {
   "cell_type": "markdown",
   "metadata": {
    "id": "27jRPKKcmHrC"
   },
   "source": [
    "# Open the CSV file\n",
    "\n",
    "To integrate separate csv files, I did the following. I scraped the news on a daily basis and put it in a different csv file for each day. For the tesk, I concatenated all of the csv files."
   ]
  },
  {
   "cell_type": "code",
   "execution_count": null,
   "metadata": {
    "colab": {
     "base_uri": "https://localhost:8080/"
    },
    "id": "ev6lxoIhkBeL",
    "outputId": "de9cec27-5a12-432e-d428-69ae4b9d953e"
   },
   "outputs": [
    {
     "name": "stdout",
     "output_type": "stream",
     "text": [
      "['2021-03-25.csv', '2021-03-26.csv', '2021-03-27.csv', '2021-03-28.csv', '2021-03-29.csv', '2021-03-30.csv', '2021-03-31.csv', '2021-04-01.csv', '2021-04-03.csv', '2021-04-04.csv', '2021-04-05.csv', '2021-04-06.csv', '2021-04-07.csv', '2021-04-08.csv', '2021-04-12.csv', '2021-04-13.csv', '2021-04-14.csv', '2021-04-15.csv', '2021-04-16.csv', '2021-04-17.csv', '2021-04-18.csv', '2021-04-19.csv', '2021-10-09.csv', '2021-10-10.csv', '2021-10-20.csv', '2021-10-21.csv', '2021-10-22.csv', '2021-10-23.csv', '2021-10-24.csv', '2021-10-25.csv', '2021-10-26.csv', '2021-10-27.csv', '2021-11-21.csv', '2021-11-22.csv', '2021-11-25.csv', '2021-11-28.csv', '2021-11-29.csv', '2021-11-30.csv', '2021-12-05.csv', '2021-12-25.csv', '2022-01-02.csv', '2022-01-04.csv', '2022-01-11.csv', '2022-01-13.csv', '2022-01-18.csv', '2022-03-26.csv', '2022-03-27.csv', '2022-04-04.csv']\n"
     ]
    }
   ],
   "source": [
    "all_filenames = [i for i in os.listdir(\"/content/drive/MyDrive/News Scraping\") if  \".csv\" in i and \"combined\" not in i]\n",
    "print(all_filenames)"
   ]
  },
  {
   "cell_type": "code",
   "execution_count": null,
   "metadata": {
    "id": "JHZZTlTDkFka"
   },
   "outputs": [],
   "source": [
    "root = \"/content/drive/MyDrive/News Scraping/\""
   ]
  },
  {
   "cell_type": "markdown",
   "metadata": {
    "id": "B0jQLGpzmft-"
   },
   "source": [
    "There are 9 columns and 9282 rows in the merged csv file. Title, URL, Date, Author, Author URL, Content, Category, Description, and so on are some of the 9 column titles."
   ]
  },
  {
   "cell_type": "code",
   "execution_count": null,
   "metadata": {
    "colab": {
     "base_uri": "https://localhost:8080/",
     "height": 884
    },
    "id": "YYDfGUL6kJMw",
    "outputId": "6a45115c-4fe5-4098-997d-a7dace01ca1e"
   },
   "outputs": [
    {
     "data": {
      "text/html": [
       "\n",
       "  <div id=\"df-37195002-5e05-49a5-a8fc-a2b1704c8379\">\n",
       "    <div class=\"colab-df-container\">\n",
       "      <div>\n",
       "<style scoped>\n",
       "    .dataframe tbody tr th:only-of-type {\n",
       "        vertical-align: middle;\n",
       "    }\n",
       "\n",
       "    .dataframe tbody tr th {\n",
       "        vertical-align: top;\n",
       "    }\n",
       "\n",
       "    .dataframe thead th {\n",
       "        text-align: right;\n",
       "    }\n",
       "</style>\n",
       "<table border=\"1\" class=\"dataframe\">\n",
       "  <thead>\n",
       "    <tr style=\"text-align: right;\">\n",
       "      <th></th>\n",
       "      <th>Unnamed: 0</th>\n",
       "      <th>Title</th>\n",
       "      <th>URL</th>\n",
       "      <th>Date</th>\n",
       "      <th>Author</th>\n",
       "      <th>Author URL</th>\n",
       "      <th>Content</th>\n",
       "      <th>Category</th>\n",
       "      <th>Description</th>\n",
       "    </tr>\n",
       "  </thead>\n",
       "  <tbody>\n",
       "    <tr>\n",
       "      <th>0</th>\n",
       "      <td>0</td>\n",
       "      <td>स्पष्टीकरण बुझाउँदै रावलले ओलीलाई नै सोधे- पार...</td>\n",
       "      <td>https://ekantipur.com/news/2021/03/25/16166859...</td>\n",
       "      <td>चैत्र १२, २०७७</td>\n",
       "      <td>कान्तिपुर संवाददाता</td>\n",
       "      <td>https://ekantipur.com/author/author-14301</td>\n",
       "      <td>काठमाडौँ — नेकपा (एमाले) का उपाध्यक्ष भीम रावल...</td>\n",
       "      <td>news</td>\n",
       "      <td>नेकपा (एमाले) का उपाध्यक्ष भीम रावलले पार्टी अ...</td>\n",
       "    </tr>\n",
       "    <tr>\n",
       "      <th>1</th>\n",
       "      <td>1</td>\n",
       "      <td>अध्ययन क्षेत्रमा नेपाल–ओमान बीच सहकार्य</td>\n",
       "      <td>https://ekantipur.com/news/2021/03/25/16166848...</td>\n",
       "      <td>चैत्र १२, २०७७</td>\n",
       "      <td>कान्तिपुर संवाददाता</td>\n",
       "      <td>https://ekantipur.com/author/author-14301</td>\n",
       "      <td>काठमाडौँ — नेपाल र ओमानका विद्यार्थीहरु बीच ‘क...</td>\n",
       "      <td>news</td>\n",
       "      <td>नेपाल र ओमानका विद्यार्थीहरु बीच ‘कृषि र पर्यट...</td>\n",
       "    </tr>\n",
       "    <tr>\n",
       "      <th>2</th>\n",
       "      <td>2</td>\n",
       "      <td>ओलीलाई नेपालको प्रतिप्रश्‍न- तपाईंमा पार्टी वि...</td>\n",
       "      <td>https://ekantipur.com/news/2021/03/25/16166833...</td>\n",
       "      <td>चैत्र १२, २०७७</td>\n",
       "      <td>कान्तिपुर संवाददाता</td>\n",
       "      <td>https://ekantipur.com/author/author-14301</td>\n",
       "      <td>काठमाडौँ — नेकपा (एमाले)का वरिष्ठ नेता माधवकुम...</td>\n",
       "      <td>news</td>\n",
       "      <td>नेकपा (एमाले)का वरिष्ठ नेता माधवकुमार नेपालले ...</td>\n",
       "    </tr>\n",
       "    <tr>\n",
       "      <th>3</th>\n",
       "      <td>3</td>\n",
       "      <td>कांग्रेस केन्द्रीय कार्यसमिति बैठक चैत २० गतेल...</td>\n",
       "      <td>https://ekantipur.com/news/2021/03/25/16166770...</td>\n",
       "      <td>चैत्र १२, २०७७</td>\n",
       "      <td>कान्तिपुर संवाददाता</td>\n",
       "      <td>https://ekantipur.com/author/author-14301</td>\n",
       "      <td>काठमाडौँ — प्रमुख प्रतिपक्ष दल कांग्रेसको केन्...</td>\n",
       "      <td>news</td>\n",
       "      <td>प्रमुख प्रतिपक्ष दल कांग्रेसको केन्द्रीय कार्य...</td>\n",
       "    </tr>\n",
       "    <tr>\n",
       "      <th>4</th>\n",
       "      <td>4</td>\n",
       "      <td>कोरोना जोखिम कम गर्न सीसीएमसीलाई स्वास्थ्य मन्...</td>\n",
       "      <td>https://ekantipur.com/news/2021/03/25/16166738...</td>\n",
       "      <td>चैत्र १२, २०७७</td>\n",
       "      <td>कान्तिपुर संवाददाता</td>\n",
       "      <td>https://ekantipur.com/author/author-14301</td>\n",
       "      <td>काठमाडौँ — स्वास्थ्य तथा जनसंख्या मन्त्रालयले ...</td>\n",
       "      <td>news</td>\n",
       "      <td>स्वास्थ्य तथा जनसंख्या मन्त्रालयले आवश्यक तयार...</td>\n",
       "    </tr>\n",
       "    <tr>\n",
       "      <th>...</th>\n",
       "      <td>...</td>\n",
       "      <td>...</td>\n",
       "      <td>...</td>\n",
       "      <td>...</td>\n",
       "      <td>...</td>\n",
       "      <td>...</td>\n",
       "      <td>...</td>\n",
       "      <td>...</td>\n",
       "      <td>...</td>\n",
       "    </tr>\n",
       "    <tr>\n",
       "      <th>75</th>\n",
       "      <td>9</td>\n",
       "      <td>प्रधानमन्त्रीका छोरासहित श्रीलङ्काका २६ जना मन...</td>\n",
       "      <td>https://gorkhapatraonline.com/international/20...</td>\n",
       "      <td>चैत्र २१, २०७८ सोमबार</td>\n",
       "      <td>गोरखापत्र अनलाइन</td>\n",
       "      <td>https://gorkhapatraonline.com/author_news/3</td>\n",
       "      <td>गोरखापत्र अनलाइनकाठमाडौं, चैत २१ गते । श्रीलङ्...</td>\n",
       "      <td>international</td>\n",
       "      <td>श्रीलङ्कामा सबैभन्दा चरम आर्थिक सङ्कट व्यवस्था...</td>\n",
       "    </tr>\n",
       "    <tr>\n",
       "      <th>76</th>\n",
       "      <td>10</td>\n",
       "      <td>खुम्बुबाट गर्भवति महिलाको उद्धार</td>\n",
       "      <td>https://gorkhapatraonline.com/health/2022-04-0...</td>\n",
       "      <td>चैत्र २१, २०७८ सोमबार</td>\n",
       "      <td>सन्तोष राउत</td>\n",
       "      <td>https://gorkhapatraonline.com/author_news/3</td>\n",
       "      <td>सोलुखुम्बुको खुम्बु पासाङल्हामु गाउँपालिका ३ ब...</td>\n",
       "      <td>province</td>\n",
       "      <td>NaN</td>\n",
       "    </tr>\n",
       "    <tr>\n",
       "      <th>77</th>\n",
       "      <td>11</td>\n",
       "      <td>गाउँठाउँमै सेवा पाउने भएपछि गौशालाबासी खुशी</td>\n",
       "      <td>https://gorkhapatraonline.com/national/2022-04...</td>\n",
       "      <td>चैत्र २१, २०७८ सोमबार</td>\n",
       "      <td>नागेन्द्रकुमार कर्ण</td>\n",
       "      <td>https://gorkhapatraonline.com/author_news/3</td>\n",
       "      <td>महोत्तरी जिल्लाको पश्चिमवर्ती स्थानीय तहका वास...</td>\n",
       "      <td>province</td>\n",
       "      <td>NaN</td>\n",
       "    </tr>\n",
       "    <tr>\n",
       "      <th>78</th>\n",
       "      <td>12</td>\n",
       "      <td>साकेला पार्कमा बाबु पोखरीको शिलान्यास</td>\n",
       "      <td>https://gorkhapatraonline.com/open/2022-04-04-...</td>\n",
       "      <td>चैत्र २१, २०७८ सोमबार</td>\n",
       "      <td>निशा राई</td>\n",
       "      <td>https://gorkhapatraonline.com/author_news/3</td>\n",
       "      <td>धरान ११ स्थित साकेला सांस्कृतिक पार्कमा बाबु प...</td>\n",
       "      <td>province</td>\n",
       "      <td>NaN</td>\n",
       "    </tr>\n",
       "    <tr>\n",
       "      <th>79</th>\n",
       "      <td>13</td>\n",
       "      <td>एकलाख बालबालिकालाई टाइफाइडविरुद्धको खोप</td>\n",
       "      <td>https://gorkhapatraonline.com/health/2022-04-0...</td>\n",
       "      <td>चैत्र २१, २०७८ सोमबार</td>\n",
       "      <td>मुकुन्द सुवेदी</td>\n",
       "      <td>https://gorkhapatraonline.com/author_news/3</td>\n",
       "      <td>स्वास्थ्य कार्यालय बर्दियाले जिल्लाका एक लाख ब...</td>\n",
       "      <td>province</td>\n",
       "      <td>NaN</td>\n",
       "    </tr>\n",
       "  </tbody>\n",
       "</table>\n",
       "<p>9242 rows × 9 columns</p>\n",
       "</div>\n",
       "      <button class=\"colab-df-convert\" onclick=\"convertToInteractive('df-37195002-5e05-49a5-a8fc-a2b1704c8379')\"\n",
       "              title=\"Convert this dataframe to an interactive table.\"\n",
       "              style=\"display:none;\">\n",
       "        \n",
       "  <svg xmlns=\"http://www.w3.org/2000/svg\" height=\"24px\"viewBox=\"0 0 24 24\"\n",
       "       width=\"24px\">\n",
       "    <path d=\"M0 0h24v24H0V0z\" fill=\"none\"/>\n",
       "    <path d=\"M18.56 5.44l.94 2.06.94-2.06 2.06-.94-2.06-.94-.94-2.06-.94 2.06-2.06.94zm-11 1L8.5 8.5l.94-2.06 2.06-.94-2.06-.94L8.5 2.5l-.94 2.06-2.06.94zm10 10l.94 2.06.94-2.06 2.06-.94-2.06-.94-.94-2.06-.94 2.06-2.06.94z\"/><path d=\"M17.41 7.96l-1.37-1.37c-.4-.4-.92-.59-1.43-.59-.52 0-1.04.2-1.43.59L10.3 9.45l-7.72 7.72c-.78.78-.78 2.05 0 2.83L4 21.41c.39.39.9.59 1.41.59.51 0 1.02-.2 1.41-.59l7.78-7.78 2.81-2.81c.8-.78.8-2.07 0-2.86zM5.41 20L4 18.59l7.72-7.72 1.47 1.35L5.41 20z\"/>\n",
       "  </svg>\n",
       "      </button>\n",
       "      \n",
       "  <style>\n",
       "    .colab-df-container {\n",
       "      display:flex;\n",
       "      flex-wrap:wrap;\n",
       "      gap: 12px;\n",
       "    }\n",
       "\n",
       "    .colab-df-convert {\n",
       "      background-color: #E8F0FE;\n",
       "      border: none;\n",
       "      border-radius: 50%;\n",
       "      cursor: pointer;\n",
       "      display: none;\n",
       "      fill: #1967D2;\n",
       "      height: 32px;\n",
       "      padding: 0 0 0 0;\n",
       "      width: 32px;\n",
       "    }\n",
       "\n",
       "    .colab-df-convert:hover {\n",
       "      background-color: #E2EBFA;\n",
       "      box-shadow: 0px 1px 2px rgba(60, 64, 67, 0.3), 0px 1px 3px 1px rgba(60, 64, 67, 0.15);\n",
       "      fill: #174EA6;\n",
       "    }\n",
       "\n",
       "    [theme=dark] .colab-df-convert {\n",
       "      background-color: #3B4455;\n",
       "      fill: #D2E3FC;\n",
       "    }\n",
       "\n",
       "    [theme=dark] .colab-df-convert:hover {\n",
       "      background-color: #434B5C;\n",
       "      box-shadow: 0px 1px 3px 1px rgba(0, 0, 0, 0.15);\n",
       "      filter: drop-shadow(0px 1px 2px rgba(0, 0, 0, 0.3));\n",
       "      fill: #FFFFFF;\n",
       "    }\n",
       "  </style>\n",
       "\n",
       "      <script>\n",
       "        const buttonEl =\n",
       "          document.querySelector('#df-37195002-5e05-49a5-a8fc-a2b1704c8379 button.colab-df-convert');\n",
       "        buttonEl.style.display =\n",
       "          google.colab.kernel.accessAllowed ? 'block' : 'none';\n",
       "\n",
       "        async function convertToInteractive(key) {\n",
       "          const element = document.querySelector('#df-37195002-5e05-49a5-a8fc-a2b1704c8379');\n",
       "          const dataTable =\n",
       "            await google.colab.kernel.invokeFunction('convertToInteractive',\n",
       "                                                     [key], {});\n",
       "          if (!dataTable) return;\n",
       "\n",
       "          const docLinkHtml = 'Like what you see? Visit the ' +\n",
       "            '<a target=\"_blank\" href=https://colab.research.google.com/notebooks/data_table.ipynb>data table notebook</a>'\n",
       "            + ' to learn more about interactive tables.';\n",
       "          element.innerHTML = '';\n",
       "          dataTable['output_type'] = 'display_data';\n",
       "          await google.colab.output.renderOutput(dataTable, element);\n",
       "          const docLink = document.createElement('div');\n",
       "          docLink.innerHTML = docLinkHtml;\n",
       "          element.appendChild(docLink);\n",
       "        }\n",
       "      </script>\n",
       "    </div>\n",
       "  </div>\n",
       "  "
      ],
      "text/plain": [
       "    Unnamed: 0                                              Title  \\\n",
       "0            0  स्पष्टीकरण बुझाउँदै रावलले ओलीलाई नै सोधे- पार...   \n",
       "1            1            अध्ययन क्षेत्रमा नेपाल–ओमान बीच सहकार्य   \n",
       "2            2  ओलीलाई नेपालको प्रतिप्रश्‍न- तपाईंमा पार्टी वि...   \n",
       "3            3  कांग्रेस केन्द्रीय कार्यसमिति बैठक चैत २० गतेल...   \n",
       "4            4  कोरोना जोखिम कम गर्न सीसीएमसीलाई स्वास्थ्य मन्...   \n",
       "..         ...                                                ...   \n",
       "75           9  प्रधानमन्त्रीका छोरासहित श्रीलङ्काका २६ जना मन...   \n",
       "76          10                   खुम्बुबाट गर्भवति महिलाको उद्धार   \n",
       "77          11        गाउँठाउँमै सेवा पाउने भएपछि गौशालाबासी खुशी   \n",
       "78          12              साकेला पार्कमा बाबु पोखरीको शिलान्यास   \n",
       "79          13            एकलाख बालबालिकालाई टाइफाइडविरुद्धको खोप   \n",
       "\n",
       "                                                  URL                   Date  \\\n",
       "0   https://ekantipur.com/news/2021/03/25/16166859...         चैत्र १२, २०७७   \n",
       "1   https://ekantipur.com/news/2021/03/25/16166848...         चैत्र १२, २०७७   \n",
       "2   https://ekantipur.com/news/2021/03/25/16166833...         चैत्र १२, २०७७   \n",
       "3   https://ekantipur.com/news/2021/03/25/16166770...         चैत्र १२, २०७७   \n",
       "4   https://ekantipur.com/news/2021/03/25/16166738...         चैत्र १२, २०७७   \n",
       "..                                                ...                    ...   \n",
       "75  https://gorkhapatraonline.com/international/20...  चैत्र २१, २०७८ सोमबार   \n",
       "76  https://gorkhapatraonline.com/health/2022-04-0...  चैत्र २१, २०७८ सोमबार   \n",
       "77  https://gorkhapatraonline.com/national/2022-04...  चैत्र २१, २०७८ सोमबार   \n",
       "78  https://gorkhapatraonline.com/open/2022-04-04-...  चैत्र २१, २०७८ सोमबार   \n",
       "79  https://gorkhapatraonline.com/health/2022-04-0...  चैत्र २१, २०७८ सोमबार   \n",
       "\n",
       "                 Author                                   Author URL  \\\n",
       "0   कान्तिपुर संवाददाता    https://ekantipur.com/author/author-14301   \n",
       "1   कान्तिपुर संवाददाता    https://ekantipur.com/author/author-14301   \n",
       "2   कान्तिपुर संवाददाता    https://ekantipur.com/author/author-14301   \n",
       "3   कान्तिपुर संवाददाता    https://ekantipur.com/author/author-14301   \n",
       "4   कान्तिपुर संवाददाता    https://ekantipur.com/author/author-14301   \n",
       "..                  ...                                          ...   \n",
       "75    गोरखापत्र अनलाइन   https://gorkhapatraonline.com/author_news/3   \n",
       "76          सन्तोष राउत  https://gorkhapatraonline.com/author_news/3   \n",
       "77  नागेन्द्रकुमार कर्ण  https://gorkhapatraonline.com/author_news/3   \n",
       "78             निशा राई  https://gorkhapatraonline.com/author_news/3   \n",
       "79       मुकुन्द सुवेदी  https://gorkhapatraonline.com/author_news/3   \n",
       "\n",
       "                                              Content       Category  \\\n",
       "0   काठमाडौँ — नेकपा (एमाले) का उपाध्यक्ष भीम रावल...           news   \n",
       "1   काठमाडौँ — नेपाल र ओमानका विद्यार्थीहरु बीच ‘क...           news   \n",
       "2   काठमाडौँ — नेकपा (एमाले)का वरिष्ठ नेता माधवकुम...           news   \n",
       "3   काठमाडौँ — प्रमुख प्रतिपक्ष दल कांग्रेसको केन्...           news   \n",
       "4   काठमाडौँ — स्वास्थ्य तथा जनसंख्या मन्त्रालयले ...           news   \n",
       "..                                                ...            ...   \n",
       "75  गोरखापत्र अनलाइनकाठमाडौं, चैत २१ गते । श्रीलङ्...  international   \n",
       "76  सोलुखुम्बुको खुम्बु पासाङल्हामु गाउँपालिका ३ ब...       province   \n",
       "77  महोत्तरी जिल्लाको पश्चिमवर्ती स्थानीय तहका वास...       province   \n",
       "78  धरान ११ स्थित साकेला सांस्कृतिक पार्कमा बाबु प...       province   \n",
       "79  स्वास्थ्य कार्यालय बर्दियाले जिल्लाका एक लाख ब...       province   \n",
       "\n",
       "                                          Description  \n",
       "0   नेकपा (एमाले) का उपाध्यक्ष भीम रावलले पार्टी अ...  \n",
       "1   नेपाल र ओमानका विद्यार्थीहरु बीच ‘कृषि र पर्यट...  \n",
       "2   नेकपा (एमाले)का वरिष्ठ नेता माधवकुमार नेपालले ...  \n",
       "3   प्रमुख प्रतिपक्ष दल कांग्रेसको केन्द्रीय कार्य...  \n",
       "4   स्वास्थ्य तथा जनसंख्या मन्त्रालयले आवश्यक तयार...  \n",
       "..                                                ...  \n",
       "75  श्रीलङ्कामा सबैभन्दा चरम आर्थिक सङ्कट व्यवस्था...  \n",
       "76                                                NaN  \n",
       "77                                                NaN  \n",
       "78                                                NaN  \n",
       "79                                                NaN  \n",
       "\n",
       "[9242 rows x 9 columns]"
      ]
     },
     "execution_count": 30,
     "metadata": {},
     "output_type": "execute_result"
    }
   ],
   "source": [
    "combined_csv = pd.concat([pd.read_csv(root+f) for f in all_filenames])\n",
    "combined_csv"
   ]
  },
  {
   "cell_type": "markdown",
   "metadata": {
    "id": "hP774MePSLpD"
   },
   "source": [
    "I made a duplicate of the original dataframe here. The major goal of doing this is that in some cases, if I update a value, the value in the original data changes as well, so I produced a replica of it to keep my original data unchanged."
   ]
  },
  {
   "cell_type": "code",
   "execution_count": null,
   "metadata": {
    "id": "ps0jec1xPSHu"
   },
   "outputs": [],
   "source": [
    "df = combined_csv.copy()"
   ]
  },
  {
   "cell_type": "markdown",
   "metadata": {
    "id": "2LafSGmYm2QG"
   },
   "source": [
    "# Open the stopwords.txt file.\n",
    "Stop words are a collection of terms that are commonly used in any language. Stop words in English include words like \"the,\" \"is,\" and \"and.\" Stop words are used in NLP and text mining applications to remove extraneous terms so that computers may focus on the important ones. The following is how I loaded the stop words file. Because stop words play an important role in news classification, we should eliminate them during preprocessing."
   ]
  },
  {
   "cell_type": "markdown",
   "metadata": {
    "id": "D5WtvzBKSVJX"
   },
   "source": [
    "# Stopwords File"
   ]
  },
  {
   "cell_type": "code",
   "execution_count": null,
   "metadata": {
    "id": "9CQqoFe4ZkaP"
   },
   "outputs": [],
   "source": [
    "stop_file = \"/content/drive/MyDrive/News Scraping/News classification/nepali_stopwords.txt\"\n",
    "stop_words = []\n",
    "with open(stop_file) as fp:\n",
    "  lines = fp.readlines()\n",
    "  stop_words =list( map(lambda x:x.strip(), lines))\n",
    "#stop_words"
   ]
  },
  {
   "cell_type": "markdown",
   "metadata": {
    "id": "eikPIQPcSYGx"
   },
   "source": [
    "# Punctuation file\n",
    "# Open the Punctuation file.\n",
    "The code below is for loading a punctuation file. Punctuation is a set of tools used in writing to clearly distinguish sentences, phrases, and clauses so that their intended meaning may be understood. These tools provide no useful information during categorization, thus they should be eliminated before we train our model."
   ]
  },
  {
   "cell_type": "code",
   "execution_count": null,
   "metadata": {
    "colab": {
     "base_uri": "https://localhost:8080/"
    },
    "id": "uR3FLcN6aZYr",
    "outputId": "a234a6eb-552c-4f93-bde5-434e53ab4a5d"
   },
   "outputs": [
    {
     "data": {
      "text/plain": [
       "[':', '?', '|', '!', '.', ',', '\" \"', '( )', '—', '-', \"?'\"]"
      ]
     },
     "execution_count": 33,
     "metadata": {},
     "output_type": "execute_result"
    }
   ],
   "source": [
    "punctuation_file = \"/content/drive/MyDrive/News Scraping/News classification/nepali_punctuation (1).txt\"\n",
    "punctuation_words = []\n",
    "with open(punctuation_file) as fp:\n",
    "  lines = fp.readlines()\n",
    "  punctuation_words =list( map(lambda x:x.strip(), lines))\n",
    "punctuation_words"
   ]
  },
  {
   "cell_type": "markdown",
   "metadata": {
    "id": "gwqqgRE4Sd0E"
   },
   "source": [
    "# Pre-processing of text\n",
    "I'm only going to utilize the titles of all of my blog's categories. I'll use content to make a blog post there later, despite the enormous quantity of words in the content columns. In this blog, I'll show you how to use Naive Bayes in title data to classify news and categorize it by category.\n",
    "\n",
    "First, I created a method named 'preprocessing text' in the provided code that accepts data, stop words, and punctuation words as parameters. I made a list called 'new cat' to keep track of the information once I processed it. I also initialized naise, as you can see in the code. Then, within cat data, I use for loop. I isolated the data on cats from the white space, linked them together, and gave them names."
   ]
  },
  {
   "cell_type": "markdown",
   "metadata": {
    "id": "VITAPktp9X_m"
   },
   "source": []
  },
  {
   "cell_type": "code",
   "execution_count": null,
   "metadata": {
    "colab": {
     "base_uri": "https://localhost:8080/"
    },
    "id": "XHTpJQB9fDVt",
    "outputId": "67e76084-a1ba-4f6f-e121-df68772c3af8"
   },
   "outputs": [
    {
     "name": "stdout",
     "output_type": "stream",
     "text": [
      "['शिक्षण संस्थामा जनस्वास्थ्य मापदण्ड पालना शिक्षा मन्त्रालयको निर्देशन']\n"
     ]
    }
   ],
   "source": [
    "def preprocess_text(cat_data, stop_words, punctuation_words):\n",
    "  new_cat = []\n",
    "  noise = \"1,2,3,4,5,6,7,8,9,0,०,१,२,३,४,५,६,७,८,९\".split(\",\")\n",
    "  \n",
    "  for row in cat_data:\n",
    "    words = row.strip().split(\" \")      \n",
    "    nwords = \"\" # []\n",
    "    \n",
    "    for word in words:\n",
    "      if word not in punctuation_words and word not in stop_words:\n",
    "        is_noise = False\n",
    "        for n in noise:\n",
    "          #print(n)\n",
    "          if n in word:\n",
    "            is_noise = True\n",
    "            break\n",
    "        if is_noise == False:\n",
    "          word = word.replace(\"(\",\"\")\n",
    "          word = word.replace(\")\",\"\")\n",
    "          # nwords.append(word)\n",
    "          if len(word)>1:\n",
    "            nwords+=word+\" \"\n",
    "          \n",
    "    new_cat.append(nwords.strip())\n",
    "  # print(new_cat)\n",
    "  return new_cat\n",
    "\n",
    "title_clean = preprocess_text([\"शिक्षण संस्थामा ज जनस्वास्थ्य 50 मापदण्ड पालना शिक्षा मन्त्रालयको निर्देशन\"], stop_words, punctuation_words)\n",
    "print(title_clean)\n"
   ]
  },
  {
   "cell_type": "markdown",
   "metadata": {
    "id": "twjUiPyWnh0o"
   },
   "source": [
    "Here I only take title from our data and apply stops words and punctuations."
   ]
  },
  {
   "cell_type": "code",
   "execution_count": null,
   "metadata": {
    "id": "a5fd9hh0FaQ6"
   },
   "outputs": [],
   "source": [
    "ndf = df.copy()\n",
    "cat_title = []\n",
    "for i, row in ndf.iterrows():\n",
    "  ndf.loc[i, \"Title\"]= preprocess_text([row.Title], stop_words, punctuation_words)[0]\n",
    "\n",
    "#ndf\n"
   ]
  },
  {
   "cell_type": "markdown",
   "metadata": {
    "id": "Ow8u223mnyko"
   },
   "source": [
    "# Importing Necessary Module for Logistic Regression\n",
    "\n",
    "* `LogisticRegression` :  We import LogisticRegression from sklearn.linear_model. \n",
    "* `CountVectorizer` : Convert a set of text documents into a token count matrix. Using scipy, this approach generates a sparse representation of the counts.\n",
    "\n",
    "* `train_test_split`: Sklearn model selection has a method called train test split that splits data arrays into two subsets: training data and testing data."
   ]
  },
  {
   "cell_type": "code",
   "execution_count": null,
   "metadata": {
    "id": "Bo7NRqoVF9Jn"
   },
   "outputs": [],
   "source": [
    "from sklearn.linear_model import LogisticRegression\n",
    "from sklearn.model_selection import train_test_split\n",
    "from sklearn.feature_extraction.text import CountVectorizer"
   ]
  },
  {
   "cell_type": "markdown",
   "metadata": {
    "id": "P-M3fGg1SlrM"
   },
   "source": [
    "# Data is split into two sets: train and test.\n",
    "\n",
    "Our original data was separated into train and test data at this point. Normally, data is partitioned in the proportions of 70% to 30% or 80% to 20%. Model fitting is done with train data, and model prediction is done with test data."
   ]
  },
  {
   "cell_type": "code",
   "execution_count": null,
   "metadata": {
    "id": "0auGLY7nIXcb"
   },
   "outputs": [],
   "source": [
    "\n",
    "data = pd.DataFrame()\n",
    "\n",
    "data[\"text\"]=ndf.Title\n",
    "data[\"label\"]=ndf.Category\n",
    "data[\"target\"] = data[\"label\"].apply(lambda x: \"news\" if x==\"prabhas-news\" else \"national\" if x==\"province\" else x)\n",
    "classes = {c:i for i,c in enumerate(data.target.unique())}\n",
    "data[\"target\"] = data.target.apply(lambda x: classes[x])\n",
    "\n",
    "\n",
    "X_train, X_test, Y_train, Y_test = train_test_split(data['text'], \n",
    "                                                    data['target'], \n",
    "                                                    random_state=0)\n",
    "\n",
    "vectorizer = CountVectorizer(ngram_range=(1, 2)).fit(X_train)\n",
    "X_train_vectorized = vectorizer.transform(X_train)"
   ]
  },
  {
   "cell_type": "markdown",
   "metadata": {
    "id": "8OzrWVPNpZjE"
   },
   "source": [
    ".transform(X) creates a 2-D feature matrix from any dict X (mapping feature name to feature values). According to vector math, the 2D matrix is the correct way to enter entries to a classifier."
   ]
  },
  {
   "cell_type": "code",
   "execution_count": null,
   "metadata": {
    "colab": {
     "base_uri": "https://localhost:8080/"
    },
    "id": "U1ooUC1lKdDP",
    "outputId": "efbccd5e-0a77-439c-eb68-c0f3fb05daa8"
   },
   "outputs": [
    {
     "data": {
      "text/plain": [
       "<6x7383 sparse matrix of type '<class 'numpy.int64'>'\n",
       "\twith 41 stored elements in Compressed Sparse Row format>"
      ]
     },
     "execution_count": 21,
     "metadata": {},
     "output_type": "execute_result"
    }
   ],
   "source": [
    "t = vectorizer.transform(\n",
    "    [\n",
    "        'कैलाली, कञ्चनपुर र सुनसरीमा ३० प्रतिशत धानबाली नष्ट',\n",
    "        'जलविद्युत् आयोजना : सर्वेक्षण इजाजत रोक्नबाट पछि हट्यो सरकार',\n",
    "        'राष्ट्र बैंकको हस्तक्षेपपछि निक्षेपको ब्याजदर १० प्रतिशतभन्दा कम',\n",
    "        'गणेशमान सिंह राष्ट्रिय टेनिस कात्तिक ९ गतेदेखि',\n",
    "        'निर्माणमैत्री कानून बनाउने मन्त्री झाँक्रीको प्रतिवद्धता',\n",
    "        'टी-२० विश्वकप : पीएनजीलाई ८४ रनले हराउँदै बंगलादेश सुपर १२ मा'\n",
    "        ])\n",
    "t"
   ]
  },
  {
   "cell_type": "markdown",
   "metadata": {
    "id": "oiKblxW9Sy74"
   },
   "source": [
    "\n",
    "# Model Fitting\n",
    " We fit LogisticRegression by using train_set of data. We get value of coefficent of determination 92.94% that means model is able to fit only 92.94% of data."
   ]
  },
  {
   "cell_type": "code",
   "execution_count": null,
   "metadata": {
    "colab": {
     "base_uri": "https://localhost:8080/"
    },
    "id": "abjTgcfQKdQ6",
    "outputId": "360535ed-8c06-416a-bdee-62f517916829"
   },
   "outputs": [
    {
     "data": {
      "text/plain": [
       "0.9294440289204687"
      ]
     },
     "execution_count": 37,
     "metadata": {},
     "output_type": "execute_result"
    }
   ],
   "source": [
    "\n",
    "clf = LogisticRegression(random_state=0).fit(X_train_vectorized, Y_train)\n",
    "prd=clf.predict(t)\n",
    "predictions = clf.predict(vectorizer.transform(X_test))\n",
    "clf.score(X_train_vectorized, Y_train)\n"
   ]
  },
  {
   "cell_type": "markdown",
   "metadata": {
    "id": "cbJdP3ZmS42-"
   },
   "source": [
    "# Prediction on trained data\n"
   ]
  },
  {
   "cell_type": "code",
   "execution_count": null,
   "metadata": {
    "colab": {
     "base_uri": "https://localhost:8080/"
    },
    "id": "bQf2BAFgOkO9",
    "outputId": "68f9e71a-689f-4ca0-976f-7fbe8d10d765"
   },
   "outputs": [
    {
     "data": {
      "text/plain": [
       "['news', 'news', 'news', 'news', 'business', 'business']"
      ]
     },
     "execution_count": 23,
     "metadata": {},
     "output_type": "execute_result"
    }
   ],
   "source": [
    "nprd = []\n",
    "for k,v in classes.items():\n",
    "  for p in prd:\n",
    "    if v==p:\n",
    "      nprd.append(k)\n",
    "nprd"
   ]
  },
  {
   "cell_type": "markdown",
   "metadata": {
    "id": "QBkB6k5dS9op"
   },
   "source": [
    "# Accuracy of Model\n",
    "Our model accuray is only 77.41% while using Logistic Re algorithms."
   ]
  },
  {
   "cell_type": "code",
   "execution_count": null,
   "metadata": {
    "colab": {
     "base_uri": "https://localhost:8080/"
    },
    "id": "IjO9JGcCO4cl",
    "outputId": "48d19cfa-ad55-4847-9e74-20ec878db1fa"
   },
   "outputs": [
    {
     "name": "stdout",
     "output_type": "stream",
     "text": [
      "Accuracy: 77.41211667913238 %\n"
     ]
    }
   ],
   "source": [
    "\n",
    "print(\"Accuracy:\", 100 * sum(predictions == Y_test) / len(predictions), '%')"
   ]
  },
  {
   "cell_type": "markdown",
   "metadata": {
    "id": "a5aAi0yxTBiH"
   },
   "source": [
    "# Fit Decision Tress"
   ]
  },
  {
   "cell_type": "code",
   "execution_count": null,
   "metadata": {
    "colab": {
     "base_uri": "https://localhost:8080/"
    },
    "id": "k32zc0LcO2QC",
    "outputId": "590ff65d-7e3c-45c4-c50e-bcefbd223d72"
   },
   "outputs": [
    {
     "name": "stdout",
     "output_type": "stream",
     "text": [
      "Accuracy: 75.39267015706807 %\n"
     ]
    }
   ],
   "source": [
    "from sklearn import tree\n",
    "from sklearn.ensemble import RandomForestClassifier\n",
    "\n",
    "clf = tree.DecisionTreeClassifier()\n",
    "clf = RandomForestClassifier()\n",
    "clf.fit(X_train_vectorized, Y_train)\n",
    "\n",
    "prd=clf.predict(t)\n",
    "predictions = clf.predict(vectorizer.transform(X_test))\n",
    "print(\"Accuracy:\", 100 * sum(predictions == Y_test) / len(predictions), '%')"
   ]
  },
  {
   "cell_type": "code",
   "execution_count": null,
   "metadata": {
    "colab": {
     "base_uri": "https://localhost:8080/"
    },
    "id": "rMJ9HrP1PMFo",
    "outputId": "f341e7c7-43f2-444f-ebb4-32da281887c6"
   },
   "outputs": [
    {
     "data": {
      "text/plain": [
       "['news', 'news', 'news', 'news', 'news', 'entertainment']"
      ]
     },
     "execution_count": 26,
     "metadata": {},
     "output_type": "execute_result"
    }
   ],
   "source": [
    "nprd = []\n",
    "for k,v in classes.items():\n",
    "  for p in prd:\n",
    "    if v==p:\n",
    "      nprd.append(k)\n",
    "nprd"
   ]
  },
  {
   "cell_type": "code",
   "execution_count": null,
   "metadata": {
    "id": "z6HphD0cPWEB"
   },
   "outputs": [],
   "source": []
  }
 ],
 "metadata": {
  "colab": {
   "collapsed_sections": [],
   "name": "Logistic regression.ipynb",
   "provenance": []
  },
  "kernelspec": {
   "display_name": "Python 3",
   "language": "python",
   "name": "python3"
  },
  "language_info": {
   "codemirror_mode": {
    "name": "ipython",
    "version": 3
   },
   "file_extension": ".py",
   "mimetype": "text/x-python",
   "name": "python",
   "nbconvert_exporter": "python",
   "pygments_lexer": "ipython3",
   "version": "3.8.5"
  },
  "latex_envs": {
   "LaTeX_envs_menu_present": true,
   "autoclose": false,
   "autocomplete": true,
   "bibliofile": "biblio.bib",
   "cite_by": "apalike",
   "current_citInitial": 1,
   "eqLabelWithNumbers": true,
   "eqNumInitial": 1,
   "hotkeys": {
    "equation": "Ctrl-E",
    "itemize": "Ctrl-I"
   },
   "labels_anchors": false,
   "latex_user_defs": false,
   "report_style_numbering": false,
   "user_envs_cfg": false
  },
  "toc": {
   "base_numbering": 1,
   "nav_menu": {},
   "number_sections": true,
   "sideBar": true,
   "skip_h1_title": false,
   "title_cell": "Table of Contents",
   "title_sidebar": "Contents",
   "toc_cell": false,
   "toc_position": {},
   "toc_section_display": true,
   "toc_window_display": false
  }
 },
 "nbformat": 4,
 "nbformat_minor": 1
}
